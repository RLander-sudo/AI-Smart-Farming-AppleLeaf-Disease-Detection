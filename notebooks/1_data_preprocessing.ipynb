{
 "cells": [
  {
   "cell_type": "code",
   "execution_count": 1,
   "id": "bd6d47ac-36b2-47a9-9898-f22e5e21fc0d",
   "metadata": {},
   "outputs": [
    {
     "name": "stdout",
     "output_type": "stream",
     "text": [
      "WARNING:tensorflow:From C:\\Users\\rohit\\projects\\smart_farming\\venv\\lib\\site-packages\\keras\\src\\losses.py:2976: The name tf.losses.sparse_softmax_cross_entropy is deprecated. Please use tf.compat.v1.losses.sparse_softmax_cross_entropy instead.\n",
      "\n",
      "Found 9 classes: ['Alternaria leaf spot', 'Brown spot', 'Frogeye leaf spot', 'Grey spot', 'Health', 'Mosaic', 'Powdery mildew', 'Rust', 'Scab']\n"
     ]
    },
    {
     "name": "stderr",
     "output_type": "stream",
     "text": [
      "Processing Alternaria leaf spot: 100%|██████████████████████████████████████████████| 291/291 [00:01<00:00, 208.61it/s]\n",
      "Processing Alternaria leaf spot: 100%|████████████████████████████████████████████████| 63/63 [00:00<00:00, 214.64it/s]\n",
      "Processing Alternaria leaf spot: 100%|████████████████████████████████████████████████| 63/63 [00:00<00:00, 212.33it/s]\n",
      "Processing Brown spot: 100%|████████████████████████████████████████████████████████| 287/287 [00:01<00:00, 181.99it/s]\n",
      "Processing Brown spot: 100%|██████████████████████████████████████████████████████████| 62/62 [00:00<00:00, 174.92it/s]\n",
      "Processing Brown spot: 100%|██████████████████████████████████████████████████████████| 62/62 [00:00<00:00, 207.92it/s]\n",
      "Processing Frogeye leaf spot: 100%|███████████████████████████████████████████████| 2225/2225 [00:16<00:00, 135.05it/s]\n",
      "Processing Frogeye leaf spot: 100%|█████████████████████████████████████████████████| 478/478 [00:03<00:00, 141.14it/s]\n",
      "Processing Frogeye leaf spot: 100%|█████████████████████████████████████████████████| 478/478 [00:03<00:00, 147.35it/s]\n",
      "Processing Grey spot: 100%|█████████████████████████████████████████████████████████| 237/237 [00:01<00:00, 199.16it/s]\n",
      "Processing Grey spot: 100%|███████████████████████████████████████████████████████████| 51/51 [00:00<00:00, 214.90it/s]\n",
      "Processing Grey spot: 100%|███████████████████████████████████████████████████████████| 51/51 [00:00<00:00, 197.17it/s]\n",
      "Processing Health: 100%|█████████████████████████████████████████████████████████████| 360/360 [00:07<00:00, 48.89it/s]\n",
      "Processing Health: 100%|███████████████████████████████████████████████████████████████| 78/78 [00:01<00:00, 46.25it/s]\n",
      "Processing Health: 100%|███████████████████████████████████████████████████████████████| 78/78 [00:01<00:00, 49.84it/s]\n",
      "Processing Mosaic: 100%|████████████████████████████████████████████████████████████| 259/259 [00:01<00:00, 222.35it/s]\n",
      "Processing Mosaic: 100%|██████████████████████████████████████████████████████████████| 56/56 [00:00<00:00, 205.87it/s]\n",
      "Processing Mosaic: 100%|██████████████████████████████████████████████████████████████| 56/56 [00:00<00:00, 225.05it/s]\n",
      "Processing Powdery mildew: 100%|████████████████████████████████████████████████████| 828/828 [00:05<00:00, 142.94it/s]\n",
      "Processing Powdery mildew: 100%|████████████████████████████████████████████████████| 178/178 [00:01<00:00, 133.25it/s]\n",
      "Processing Powdery mildew: 100%|████████████████████████████████████████████████████| 178/178 [00:01<00:00, 142.00it/s]\n",
      "Processing Rust: 100%|████████████████████████████████████████████████████████████| 1927/1927 [00:19<00:00, 100.61it/s]\n",
      "Processing Rust: 100%|██████████████████████████████████████████████████████████████| 413/413 [00:03<00:00, 103.86it/s]\n",
      "Processing Rust: 100%|██████████████████████████████████████████████████████████████| 413/413 [00:03<00:00, 108.28it/s]\n",
      "Processing Scab: 100%|████████████████████████████████████████████████████████████| 3786/3786 [00:32<00:00, 116.00it/s]\n",
      "Processing Scab: 100%|██████████████████████████████████████████████████████████████| 812/812 [00:06<00:00, 116.02it/s]\n",
      "Processing Scab: 100%|██████████████████████████████████████████████████████████████| 812/812 [00:06<00:00, 118.04it/s]\n",
      "Copying Unlabeled Images: 100%|███████████████████████████████████████████████████| 3642/3642 [00:23<00:00, 152.79it/s]"
     ]
    },
    {
     "name": "stdout",
     "output_type": "stream",
     "text": [
      "✅ Data preprocessing completed!\n"
     ]
    },
    {
     "name": "stderr",
     "output_type": "stream",
     "text": [
      "\n"
     ]
    }
   ],
   "source": [
    "# -------------------------------------\n",
    "# 📦 AppleLeaf Disease Detection Preprocessing\n",
    "# -------------------------------------\n",
    "\n",
    "import os\n",
    "import shutil\n",
    "from tqdm import tqdm\n",
    "import numpy as np\n",
    "import matplotlib.pyplot as plt\n",
    "from sklearn.model_selection import train_test_split\n",
    "from tensorflow.keras.preprocessing.image import load_img, img_to_array\n",
    "\n",
    "# Parameters\n",
    "IMG_SIZE = (224, 224)\n",
    "RAW_DIR = '../data/disease_detection/raw/AppleLeaf'\n",
    "PROCESSED_DIR = '../data/disease_detection/processed'\n",
    "\n",
    "# Get Class Labels (exclude 'images' unlabeled folder)\n",
    "LABELS = [label for label in os.listdir(RAW_DIR) if os.path.isdir(os.path.join(RAW_DIR, label)) and label != 'images']\n",
    "print(f\"Found {len(LABELS)} classes: {LABELS}\")\n",
    "\n",
    "# Helper: Create directories\n",
    "def create_dirs(base_dir, labels):\n",
    "    for subset in ['train', 'val', 'test']:\n",
    "        for label in labels:\n",
    "            os.makedirs(os.path.join(base_dir, subset, label), exist_ok=True)\n",
    "    os.makedirs(os.path.join(base_dir, 'unlabeled', 'images'), exist_ok=True)\n",
    "\n",
    "# Helper: Process & Copy Images\n",
    "def process_and_copy(img_paths, dest_dir):\n",
    "    for img_path in tqdm(img_paths, desc=f\"Processing {os.path.basename(dest_dir)}\"):\n",
    "        try:\n",
    "            img = load_img(img_path, target_size=IMG_SIZE)\n",
    "            img_array = img_to_array(img)\n",
    "            img_array = img_array / 255.0  # Normalize to [0,1]\n",
    "            \n",
    "            # Save image in destination folder\n",
    "            filename = os.path.basename(img_path)\n",
    "            img.save(os.path.join(dest_dir, filename))\n",
    "        \n",
    "        except Exception as e:\n",
    "            print(f\"Error processing {img_path}: {e}\")\n",
    "\n",
    "# Main: Split & Process Dataset\n",
    "def preprocess_dataset():\n",
    "    create_dirs(PROCESSED_DIR, LABELS)\n",
    "    \n",
    "    for label in LABELS:\n",
    "        label_dir = os.path.join(RAW_DIR, label)\n",
    "        img_files = [os.path.join(label_dir, f) for f in os.listdir(label_dir) if f.lower().endswith(('.jpg', '.png', '.jpeg'))]\n",
    "        \n",
    "        # Split into train, val, test (70%, 15%, 15%)\n",
    "        train_imgs, test_imgs = train_test_split(img_files, test_size=0.15, random_state=42)\n",
    "        train_imgs, val_imgs = train_test_split(train_imgs, test_size=0.15 / 0.85, random_state=42)\n",
    "\n",
    "        # Process & Save\n",
    "        process_and_copy(train_imgs, os.path.join(PROCESSED_DIR, 'train', label))\n",
    "        process_and_copy(val_imgs, os.path.join(PROCESSED_DIR, 'val', label))\n",
    "        process_and_copy(test_imgs, os.path.join(PROCESSED_DIR, 'test', label))\n",
    "\n",
    "    # Move unlabeled test images\n",
    "    unlabeled_src = os.path.join(RAW_DIR, 'images')\n",
    "    unlabeled_dest = os.path.join(PROCESSED_DIR, 'unlabeled', 'images')\n",
    "    for img_file in tqdm(os.listdir(unlabeled_src), desc=\"Copying Unlabeled Images\"):\n",
    "        src_path = os.path.join(unlabeled_src, img_file)\n",
    "        dest_path = os.path.join(unlabeled_dest, img_file)\n",
    "        shutil.copy(src_path, dest_path)\n",
    "\n",
    "    print(\"✅ Data preprocessing completed!\")\n",
    "\n",
    "# Run Preprocessing\n",
    "preprocess_dataset()"
   ]
  },
  {
   "cell_type": "code",
   "execution_count": null,
   "id": "c5980379-6962-456a-b418-8e9cfa85c28b",
   "metadata": {},
   "outputs": [],
   "source": []
  }
 ],
 "metadata": {
  "kernelspec": {
   "display_name": "venv",
   "language": "python",
   "name": "appleleaf-env"
  },
  "language_info": {
   "codemirror_mode": {
    "name": "ipython",
    "version": 3
   },
   "file_extension": ".py",
   "mimetype": "text/x-python",
   "name": "python",
   "nbconvert_exporter": "python",
   "pygments_lexer": "ipython3",
   "version": "3.10.4"
  }
 },
 "nbformat": 4,
 "nbformat_minor": 5
}
